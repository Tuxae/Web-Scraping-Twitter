{
 "cells": [
  {
   "cell_type": "code",
   "execution_count": 98,
   "metadata": {},
   "outputs": [],
   "source": [
    "from bs4 import BeautifulSoup\n",
    "import os\n",
    "import pickle\n",
    "import pandas as pd"
   ]
  },
  {
   "cell_type": "code",
   "execution_count": 99,
   "metadata": {},
   "outputs": [],
   "source": [
    "class Tweet():\n",
    "    \n",
    "    def __init__(self, author, permalink, time, text):\n",
    "        self.author = author\n",
    "        self.permalink = permalink\n",
    "        self.time = time\n",
    "        self.text = text\n",
    "\n",
    "def emoji_converter(emoji):\n",
    "    return {\n",
    "        \"Emoji: Croix\" : lambda : \":x:\",\n",
    "        \"Emoji: Coche blanche en gras\" : lambda : \":white_check_mark:\",\n",
    "        \"Emoji: Triangle pointant vers la droite\" : lambda : \":arrow_right:\",\n",
    "        \"Emoji: Panneau chantier \" : lambda : \":construction:\",\n",
    "        \"Emoji: Index pointant vers la droite\" : lambda : \":point_right:\",\n",
    "        \"Emoji: Clé\" : lambda : \":wrench:\"\n",
    "    }.get(emoji,lambda: None)()\n",
    "\n",
    "def tweet_converter(tweet):\n",
    "    s = \"\"\n",
    "    for e in tweet.contents:\n",
    "        # Image\n",
    "        if e.name == \"img\" and \"Emoji\" in e.attrs.get(\"class\"):\n",
    "            emoji = emoji_converter(e.attrs.get(\"aria-label\"))\n",
    "            if emoji:\n",
    "                s += emoji\n",
    "        # Add text\n",
    "        if type(e) is bs4.element.NavigableString:\n",
    "            s += e\n",
    "        # Transform @mention as text\n",
    "        if e.name == \"a\" and \"twitter-atreply\" in e.attrs.get(\"class\"):\n",
    "            s += e.text\n",
    "        # Add #hashtag as text\n",
    "        if e.name == \"a\" and \"twitter-hashtag\" in e.attrs.get(\"class\"):\n",
    "            s += e.text\n",
    "        # Add link as text\n",
    "        if e.name == \"a\" and \"twitter-timeline-link\" in e.attrs.get(\"class\"):\n",
    "            s += \" \" + e.attrs.get(\"href\")\n",
    "    return s\n"
   ]
  },
  {
   "cell_type": "code",
   "execution_count": 117,
   "metadata": {},
   "outputs": [
    {
     "name": "stdout",
     "output_type": "stream",
     "text": [
      "Ligne10_RATP.html\n",
      "Ligne11_RATP.html\n",
      "Ligne12_RATP.html\n",
      "Ligne13_RATP.html\n",
      "Ligne14_RATP.html\n",
      "Ligne1_RATP.html\n",
      "Ligne2_RATP.html\n",
      "Ligne3_RATP.html\n",
      "Ligne4_RATP.html\n",
      "Ligne5_RATP.html\n",
      "Ligne6_RATP.html\n",
      "Ligne7_RATP.html\n",
      "Ligne8_RATP.html\n",
      "Ligne9_RATP.html\n",
      "RER_A.html\n",
      "RERB.html\n",
      "RERC_SNCF.html\n",
      "RERD_SNCF.html\n",
      "T1_RATP.html\n",
      "T2_RATP.html\n",
      "T3a_RATP.html\n",
      "T3b_RATP.html\n",
      "T6_RATP.html\n",
      "T7_RATP.html\n",
      "T8_RATP.html\n"
     ]
    }
   ],
   "source": [
    "FILES = !ls pages\n",
    "ratp_tweets = {}\n",
    "for file in FILES:\n",
    "    print(file)\n",
    "    with open(f\"pages/{file}\", \"r\") as f:\n",
    "        soup = BeautifulSoup(f.read(), 'html.parser')\n",
    "        \n",
    "        author = os.path.splitext(file)[0]\n",
    "        \n",
    "        tweets = []\n",
    "        \n",
    "        tweets_div = soup.find_all(\"div\", class_=\"tweet\")\n",
    "        for tweet in tweets_div:\n",
    "            text = tweet.find(\"p\", class_=\"tweet-text\")\n",
    "            text = tweet_converter(text)\n",
    "            time = tweet.find(\"a\", class_=\"tweet-timestamp js-permalink js-nav js-tooltip\").attrs.get(\"title\") \n",
    "            url  = tweet.attrs.get(\"data-permalink-path\")\n",
    "            tweets.append(Tweet(author, url, time, text))\n",
    "            \n",
    "        ratp_tweets.update({f\"{author}\": tweets})"
   ]
  },
  {
   "cell_type": "code",
   "execution_count": 101,
   "metadata": {},
   "outputs": [],
   "source": [
    "with open(\"tweets.pickle\", \"wb\") as f:\n",
    "    pickle.dump(ratp_tweets, f)"
   ]
  },
  {
   "cell_type": "markdown",
   "metadata": {},
   "source": [
    "## Dataset creation"
   ]
  },
  {
   "cell_type": "code",
   "execution_count": 126,
   "metadata": {},
   "outputs": [],
   "source": [
    "columns = [\"author\", \"time\", \"permalink\", \"text\"]\n",
    "df = pd.DataFrame(columns=columns)"
   ]
  },
  {
   "cell_type": "code",
   "execution_count": 127,
   "metadata": {},
   "outputs": [],
   "source": [
    "for ligne, tweets in ratp_tweets.items():\n",
    "    data = [[tweet.author, tweet.time, tweet.permalink, tweet.text] for tweet in tweets]\n",
    "    df = pd.concat([\n",
    "        df,\n",
    "        pd.DataFrame(data=data, columns=columns)\n",
    "    ], ignore_index=True)"
   ]
  },
  {
   "cell_type": "code",
   "execution_count": 128,
   "metadata": {},
   "outputs": [
    {
     "data": {
      "text/plain": [
       "(19513, 4)"
      ]
     },
     "execution_count": 128,
     "metadata": {},
     "output_type": "execute_result"
    }
   ],
   "source": [
    "df.shape"
   ]
  },
  {
   "cell_type": "code",
   "execution_count": 129,
   "metadata": {},
   "outputs": [
    {
     "data": {
      "text/html": [
       "<div>\n",
       "<style scoped>\n",
       "    .dataframe tbody tr th:only-of-type {\n",
       "        vertical-align: middle;\n",
       "    }\n",
       "\n",
       "    .dataframe tbody tr th {\n",
       "        vertical-align: top;\n",
       "    }\n",
       "\n",
       "    .dataframe thead th {\n",
       "        text-align: right;\n",
       "    }\n",
       "</style>\n",
       "<table border=\"1\" class=\"dataframe\">\n",
       "  <thead>\n",
       "    <tr style=\"text-align: right;\">\n",
       "      <th></th>\n",
       "      <th>author</th>\n",
       "      <th>time</th>\n",
       "      <th>permalink</th>\n",
       "      <th>text</th>\n",
       "    </tr>\n",
       "  </thead>\n",
       "  <tbody>\n",
       "    <tr>\n",
       "      <td>0</td>\n",
       "      <td>Ligne10_RATP</td>\n",
       "      <td>08:53 - 5 déc. 2019</td>\n",
       "      <td>/Ligne10_RATP/status/1202632010122043393</td>\n",
       "      <td>[Mouvement Social]  Prévisions de trafic pour ...</td>\n",
       "    </tr>\n",
       "    <tr>\n",
       "      <td>1</td>\n",
       "      <td>Ligne10_RATP</td>\n",
       "      <td>22:06 - 5 déc. 2019</td>\n",
       "      <td>/RATPgroup/status/1202831581876015105</td>\n",
       "      <td>[Mouvement Social]  1 bus sur 3 circule aujour...</td>\n",
       "    </tr>\n",
       "    <tr>\n",
       "      <td>2</td>\n",
       "      <td>Ligne10_RATP</td>\n",
       "      <td>08:29 - 4 déc. 2019</td>\n",
       "      <td>/Ligne10_RATP/status/1202263793025331201</td>\n",
       "      <td>[Mouvement Social]   A partir du 5 décembre, l...</td>\n",
       "    </tr>\n",
       "    <tr>\n",
       "      <td>3</td>\n",
       "      <td>Ligne10_RATP</td>\n",
       "      <td>02:56 - 4 déc. 2019</td>\n",
       "      <td>/Ligne10_RATP/status/1202179755845529601</td>\n",
       "      <td>11:55, la rame repart de Vaneau en dir. de Pt ...</td>\n",
       "    </tr>\n",
       "    <tr>\n",
       "      <td>4</td>\n",
       "      <td>Ligne10_RATP</td>\n",
       "      <td>02:51 - 4 déc. 2019</td>\n",
       "      <td>/Ligne10_RATP/status/1202178491241902080</td>\n",
       "      <td>11:50, la rame stationne à Vaneau en dir. de P...</td>\n",
       "    </tr>\n",
       "    <tr>\n",
       "      <td>...</td>\n",
       "      <td>...</td>\n",
       "      <td>...</td>\n",
       "      <td>...</td>\n",
       "      <td>...</td>\n",
       "    </tr>\n",
       "    <tr>\n",
       "      <td>19508</td>\n",
       "      <td>T8_RATP</td>\n",
       "      <td>11:40 - 2 mai 2016</td>\n",
       "      <td>/T8_RATP/status/727206268578967553</td>\n",
       "      <td>Retour à un trafic régulier sur l'ensemble de ...</td>\n",
       "    </tr>\n",
       "    <tr>\n",
       "      <td>19509</td>\n",
       "      <td>T8_RATP</td>\n",
       "      <td>11:21 - 2 mai 2016</td>\n",
       "      <td>/T8_RATP/status/727201486585913344</td>\n",
       "      <td>20:18, le trafic est interrompu entre EPINAY -...</td>\n",
       "    </tr>\n",
       "    <tr>\n",
       "      <td>19510</td>\n",
       "      <td>T8_RATP</td>\n",
       "      <td>06:41 - 28 avr. 2016</td>\n",
       "      <td>/T2_RATP/status/725681308429606913</td>\n",
       "      <td>#ConcoursPhoto #photogRATPhie : toutes les inf...</td>\n",
       "    </tr>\n",
       "    <tr>\n",
       "      <td>19511</td>\n",
       "      <td>T8_RATP</td>\n",
       "      <td>14:52 - 27 avr. 2016</td>\n",
       "      <td>/T8_RATP/status/725442647800815616</td>\n",
       "      <td>Retour à un trafic régulier sur l'ensemble de ...</td>\n",
       "    </tr>\n",
       "    <tr>\n",
       "      <td>19512</td>\n",
       "      <td>T8_RATP</td>\n",
       "      <td>14:35 - 27 avr. 2016</td>\n",
       "      <td>/T8_RATP/status/725438369518477312</td>\n",
       "      <td>23:34, le trafic est interrompu entre PAUL ELU...</td>\n",
       "    </tr>\n",
       "  </tbody>\n",
       "</table>\n",
       "<p>19513 rows × 4 columns</p>\n",
       "</div>"
      ],
      "text/plain": [
       "             author                  time  \\\n",
       "0      Ligne10_RATP   08:53 - 5 déc. 2019   \n",
       "1      Ligne10_RATP   22:06 - 5 déc. 2019   \n",
       "2      Ligne10_RATP   08:29 - 4 déc. 2019   \n",
       "3      Ligne10_RATP   02:56 - 4 déc. 2019   \n",
       "4      Ligne10_RATP   02:51 - 4 déc. 2019   \n",
       "...             ...                   ...   \n",
       "19508       T8_RATP    11:40 - 2 mai 2016   \n",
       "19509       T8_RATP    11:21 - 2 mai 2016   \n",
       "19510       T8_RATP  06:41 - 28 avr. 2016   \n",
       "19511       T8_RATP  14:52 - 27 avr. 2016   \n",
       "19512       T8_RATP  14:35 - 27 avr. 2016   \n",
       "\n",
       "                                      permalink  \\\n",
       "0      /Ligne10_RATP/status/1202632010122043393   \n",
       "1         /RATPgroup/status/1202831581876015105   \n",
       "2      /Ligne10_RATP/status/1202263793025331201   \n",
       "3      /Ligne10_RATP/status/1202179755845529601   \n",
       "4      /Ligne10_RATP/status/1202178491241902080   \n",
       "...                                         ...   \n",
       "19508        /T8_RATP/status/727206268578967553   \n",
       "19509        /T8_RATP/status/727201486585913344   \n",
       "19510        /T2_RATP/status/725681308429606913   \n",
       "19511        /T8_RATP/status/725442647800815616   \n",
       "19512        /T8_RATP/status/725438369518477312   \n",
       "\n",
       "                                                    text  \n",
       "0      [Mouvement Social]  Prévisions de trafic pour ...  \n",
       "1      [Mouvement Social]  1 bus sur 3 circule aujour...  \n",
       "2      [Mouvement Social]   A partir du 5 décembre, l...  \n",
       "3      11:55, la rame repart de Vaneau en dir. de Pt ...  \n",
       "4      11:50, la rame stationne à Vaneau en dir. de P...  \n",
       "...                                                  ...  \n",
       "19508  Retour à un trafic régulier sur l'ensemble de ...  \n",
       "19509  20:18, le trafic est interrompu entre EPINAY -...  \n",
       "19510  #ConcoursPhoto #photogRATPhie : toutes les inf...  \n",
       "19511  Retour à un trafic régulier sur l'ensemble de ...  \n",
       "19512  23:34, le trafic est interrompu entre PAUL ELU...  \n",
       "\n",
       "[19513 rows x 4 columns]"
      ]
     },
     "execution_count": 129,
     "metadata": {},
     "output_type": "execute_result"
    }
   ],
   "source": [
    "df"
   ]
  },
  {
   "cell_type": "code",
   "execution_count": 130,
   "metadata": {},
   "outputs": [],
   "source": [
    "with open(\"df.pickle\", \"wb\") as f:\n",
    "    pickle.dump(df, f)"
   ]
  }
 ],
 "metadata": {
  "kernelspec": {
   "display_name": "Python 3",
   "language": "python",
   "name": "python3"
  },
  "language_info": {
   "codemirror_mode": {
    "name": "ipython",
    "version": 3
   },
   "file_extension": ".py",
   "mimetype": "text/x-python",
   "name": "python",
   "nbconvert_exporter": "python",
   "pygments_lexer": "ipython3",
   "version": "3.7.3"
  }
 },
 "nbformat": 4,
 "nbformat_minor": 4
}
